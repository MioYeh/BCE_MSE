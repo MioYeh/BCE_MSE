{
 "cells": [
  {
   "attachments": {},
   "cell_type": "markdown",
   "metadata": {},
   "source": [
    "# Binary Cross-Entropy (BCE)"
   ]
  },
  {
   "cell_type": "code",
   "execution_count": 42,
   "metadata": {
    "scrolled": true
   },
   "outputs": [
    {
     "name": "stdout",
     "output_type": "stream",
     "text": [
      "Sigmoid:\n",
      " [0.2689414213699951, 0.11920292202211755, 0.04742587317756678, 0.7310585786300049, 0.8807970779778823, 0.9525741268224334]\n",
      "\n",
      "BCE: 0.9962590167116456\n"
     ]
    }
   ],
   "source": [
    "import math\n",
    "output = [-1, -2, -3, 1, 2, 3]\n",
    "target = [0, 1, 0, 0, 0, 1]\n",
    "\n",
    "def sigmoid(x):\n",
    "    return 1/(1+math.exp(-x))\n",
    "\n",
    "def BCE(output, target):\n",
    "    total_value = 0\n",
    "    for i in range(len(output)):\n",
    "        total_value += (target[i]*math.log(output[i])+(1-target[i])*math.log(1-output[i]))\n",
    "    total_value *= -1/len(output)\n",
    "    print('\\nBCE:', total_value)\n",
    "\n",
    "if __name__ == '__main__':\n",
    "    output = [sigmoid(x) for x in output]\n",
    "    print('Sigmoid:\\n',output)\n",
    "    BCE(output, target)"
   ]
  },
  {
   "attachments": {},
   "cell_type": "markdown",
   "metadata": {},
   "source": [
    "# Mean Square Error (MSE)"
   ]
  },
  {
   "cell_type": "code",
   "execution_count": 7,
   "metadata": {},
   "outputs": [
    {
     "name": "stdout",
     "output_type": "stream",
     "text": [
      "MSE: 4.0\n"
     ]
    }
   ],
   "source": [
    "import numpy as np\n",
    "\n",
    "def MSE(y_true, y_pred):\n",
    "    mse = np.mean((y_true - y_pred)**2) \n",
    "    print('MSE:', mse)\n",
    "if __name__ == '__main__':\n",
    "    MSE(10.0, 8.0)"
   ]
  },
  {
   "cell_type": "code",
   "execution_count": null,
   "metadata": {},
   "outputs": [],
   "source": []
  }
 ],
 "metadata": {
  "kernelspec": {
   "display_name": "Python 3",
   "language": "python",
   "name": "python3"
  },
  "language_info": {
   "codemirror_mode": {
    "name": "ipython",
    "version": 3
   },
   "file_extension": ".py",
   "mimetype": "text/x-python",
   "name": "python",
   "nbconvert_exporter": "python",
   "pygments_lexer": "ipython3",
   "version": "3.7.6"
  }
 },
 "nbformat": 4,
 "nbformat_minor": 4
}
